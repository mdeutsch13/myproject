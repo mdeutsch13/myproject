{
 "cells": [
  {
   "cell_type": "markdown",
   "metadata": {},
   "source": [
    "# Mark D Task"
   ]
  },
  {
   "cell_type": "markdown",
   "metadata": {},
   "source": [
    "The goal of this task is to run random forest on multiple input files. Then, analyze the results and look at how the features chance over the course of multiple input files."
   ]
  },
  {
   "cell_type": "markdown",
   "metadata": {},
   "source": [
    "**Instructions:** Take the three input files and execute a random forest analysis on them. Create a singular bar plot which shows the explained variance score for each run. "
   ]
  },
  {
   "cell_type": "code",
   "execution_count": null,
   "metadata": {},
   "outputs": [],
   "source": [
    "import pandas as pd\n",
    "import seaborn as sns\n",
    "import numpy as np\n",
    "import sklearn as sk\n",
    "import sklearn.datasets as skd\n",
    "import sklearn.ensemble as ske\n",
    "import matplotlib.pyplot as plt\n",
    "from sklearn.model_selection import train_test_split\n",
    "\n",
    "from sklearn.metrics import explained_variance_score,max_error, mean_absolute_error,mean_squared_error,r2_score\n",
    "\n",
    "%matplotlib inline"
   ]
  },
  {
   "cell_type": "code",
   "execution_count": null,
   "metadata": {},
   "outputs": [],
   "source": [
    "explained_variance = []\n",
    "featureimportance = []\n",
    "feature = []\n",
    "for i in range(___,___): #includes first number, does not include second number\n",
    "    data = pd.read_csv('runsummary%d.csv' %(i))\n",
    "    \n",
    "    feature_names = np.array([_____])\n",
    "\n",
    "    Y = data['Total_Error']\n",
    "  \n",
    "    X = data.iloc[:, ___:____].values\n",
    "\n",
    "    X_train, X_test, Y_train, Y_test = train_test_split(X,Y, test_size = 0.25, random_state = 0)\n",
    "    \n",
    "    reg = ske.RandomForestRegressor(___)\n",
    "    \n",
    "    Y_train = np.ravel(Y_train)\n",
    "    \n",
    "    reg.fit(X_train, Y_train)\n",
    "    \n",
    "    Y_pred = reg.predict(X_test)\n",
    "    \n",
    "    explained_variance.append(explained_variance_score(Y_test,Y_pred))\n",
    "    \n",
    "    featureimportance.append(___)\n",
    "    feature.append(___)\n",
    "    \n",
    "    "
   ]
  },
  {
   "cell_type": "code",
   "execution_count": null,
   "metadata": {},
   "outputs": [],
   "source": [
    "df = pd.DataFrame(___)"
   ]
  },
  {
   "cell_type": "code",
   "execution_count": null,
   "metadata": {},
   "outputs": [],
   "source": [
    "plt.figure(figsize=(10,4))\n",
    "plt.style.use('seaborn-whitegrid')\n",
    "plt.bar(___,___)\n",
    "plt.plot([0,42],[df.mean()[0],df.mean()[0]],'r-')\n",
    "plt.title('Explained Variance per Run',fontsize=15)\n",
    "plt.xlabel('Run Number',fontsize=15)\n",
    "plt.ylabel('Explained Variance',fontsize=15)"
   ]
  }
 ],
 "metadata": {
  "kernelspec": {
   "display_name": "Python 3",
   "language": "python",
   "name": "python3"
  },
  "language_info": {
   "codemirror_mode": {
    "name": "ipython",
    "version": 3
   },
   "file_extension": ".py",
   "mimetype": "text/x-python",
   "name": "python",
   "nbconvert_exporter": "python",
   "pygments_lexer": "ipython3",
   "version": "3.7.3"
  }
 },
 "nbformat": 4,
 "nbformat_minor": 2
}
